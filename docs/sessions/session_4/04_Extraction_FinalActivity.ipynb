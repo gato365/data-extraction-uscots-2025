{
  "cells": [
    {
      "cell_type": "markdown",
      "metadata": {},
      "source": [
        "# Session 4: Final Challenge and Reflection\n",
        "\n",
        "Immanuel Williams & Ciera Millard  \n",
        "2025-07-16"
      ],
      "id": "1ccca385-7595-47a8-aa02-f43b0496c4ab"
    },
    {
      "cell_type": "raw",
      "metadata": {
        "raw_mimetype": "text/html"
      },
      "source": [
        "<!-- Delete this in Python Note Books -->"
      ],
      "id": "952bfae9-6e4e-47f0-ac7b-77af6b06acd3"
    },
    {
      "cell_type": "markdown",
      "metadata": {},
      "source": [
        "[Download starter .qmd file](04_Extraction_FinalActivity.qmd)\n",
        "\n",
        "# Session 4: Final Project Activity\n",
        "\n",
        "In this capstone session, we will combine our API and web scraping\n",
        "skills to complete two mini-projects.\n",
        "\n",
        "Each project will involve writing a custom function to extract data and\n",
        "then using that function to create a unique data visualization.\n",
        "\n",
        "## Part 1. Goals & Objectives\n",
        "\n",
        "1.  **Synthesize Skills:** Combine API requests and web scraping\n",
        "    techniques in two separate, start-to-finish projects.\n",
        "2.  **Develop Reusable Functions:** Write modular R functions that\n",
        "    handle the logic for extracting and cleaning data, making your code\n",
        "    more readable and reusable.\n",
        "3.  **Master Data Cleaning:** Practice essential data cleaning skills\n",
        "    required to transform raw, messy data from both APIs and HTML tables\n",
        "    into a format ready for analysis.\n",
        "4.  **Create Meaningful Visualizations:** Use `ggplot2` to create two\n",
        "    distinct data visualizations—a geographic map and a sorted bar\n",
        "    chart—to effectively communicate the findings from your extracted\n",
        "    data.\n",
        "\n",
        "## Part 2: Conceptual Demonstration through projects\n",
        "\n",
        "### **Project 1: Mapping U.S. Cities with the Geocoding API**\n",
        "\n",
        "Our first goal is to take a list of U.S. cities, find their exact\n",
        "geographic coordinates using an API, and plot them on a map. For this,\n",
        "we’ll use a new OpenWeatherMap endpoint: the **Geocoding API (v1.0)**.\n",
        "\n",
        "#### **Step 1: Load Libraries**\n",
        "\n",
        "We’ll begin by loading all the libraries we need for API calls, data\n",
        "wrangling, and visualization.\n",
        "\n",
        "**Filled Version (Answer)**"
      ],
      "id": "569fcc05-67e2-4bde-99eb-3d9beaefcbcf"
    },
    {
      "cell_type": "code",
      "execution_count": null,
      "metadata": {},
      "outputs": [],
      "source": [
        "library(httr2)      # For making API requests\n",
        "library(rvest)      # For web scraping\n",
        "library(purrr)      # For functional programming like map()\n",
        "library(glue)       # For building strings (URLs)\n",
        "library(dplyr)      # For data manipulation\n",
        "library(ggplot2)    # For plotting"
      ],
      "id": "ed613123-a14c-4d92-b3cb-107ac7687eef"
    },
    {
      "cell_type": "markdown",
      "metadata": {},
      "source": [
        "**Fill-in-the-Blank Version**"
      ],
      "id": "d99b34f6-1f98-4255-99af-6cf8da68512d"
    },
    {
      "cell_type": "code",
      "execution_count": null,
      "metadata": {},
      "outputs": [],
      "source": [
        "## EMPTY VERSION\n",
        "# library(____)       # For making API requests\n",
        "# library(____)       # For web scraping\n",
        "# library(____)       # For functional programming like map()\n",
        "# library(____)       # For building strings (URLs)\n",
        "# library(____)       # For data manipulation\n",
        "# library(____)       # For plotting"
      ],
      "id": "c08152c9-7845-45a1-b253-1eb946552063"
    },
    {
      "cell_type": "markdown",
      "metadata": {},
      "source": [
        "**Scratch Version Instructions:** Start by loading all the R packages\n",
        "required for this project using the `library()` function. You will need\n",
        "**`httr2`** to make requests to the API, **`purrr`** for applying your\n",
        "function across multiple cities, **`glue`** to easily construct the\n",
        "request URL, **`dplyr`** for data manipulation steps like selecting\n",
        "columns, and **`ggplot2`** to create the final map visualization."
      ],
      "id": "f8d77220-b202-473f-8696-c5baa2916875"
    },
    {
      "cell_type": "code",
      "execution_count": null,
      "metadata": {},
      "outputs": [],
      "source": [
        "## Completely EMPTY VERSION\n",
        "# TODO: Load all necessary libraries for this project\n",
        "# # For making API requests\n",
        "# # For web scraping\n",
        "# # For functional programming like map()\n",
        "# # For building strings (URLs)\n",
        "# # For data manipulation\n",
        "# # For plotting"
      ],
      "id": "15ab86f9-f7d8-40fe-a429-6af19a2161fc"
    },
    {
      "cell_type": "markdown",
      "metadata": {},
      "source": [
        "------------------------------------------------------------------------\n",
        "\n",
        "#### **Step 2: Create a Geocoding Function**\n",
        "\n",
        "Next, we’ll write a function named `get_city_coords`. This function will\n",
        "take a city name as input, send a request to the OpenWeather Geocoding\n",
        "API, and return a clean data frame with the city’s name, latitude, and\n",
        "longitude.\n",
        "\n",
        "**Filled Version (Answer)**"
      ],
      "id": "cccfc6bf-de43-4477-953d-5796bf95cd89"
    },
    {
      "cell_type": "code",
      "execution_count": null,
      "metadata": {},
      "outputs": [],
      "source": [
        "get_city_coords <- function(city_name) {\n",
        "  # Construct the request URL using the Geocoding v1.0 endpoint\n",
        "  req_url <- glue(\"http://api.openweathermap.org/geo/1.0/direct?q={URLencode(city_name)}&limit=1&appid={Sys.getenv('OPENWEATHER_API_KEY')}\")\n",
        "  \n",
        "  # Perform the request\n",
        "  response <- request(req_url) %>% \n",
        "    req_perform()\n",
        "  \n",
        "  # Check for success and process the JSON response\n",
        "  if (resp_status(response) == 200) {\n",
        "    resp_body_json(response) %>% \n",
        "      pluck(1) %>% # Pluck the first result from the list\n",
        "      as_tibble() %>% \n",
        "      select(name, lat, lon)\n",
        "  } else {\n",
        "    warning(paste(\"Could not find coordinates for:\", city_name))\n",
        "    return(NULL)\n",
        "  }\n",
        "}"
      ],
      "id": "74216b2e-ebf3-4483-90d2-0a8fec8cf077"
    },
    {
      "cell_type": "markdown",
      "metadata": {},
      "source": [
        "**Fill-in-the-Blank Version**"
      ],
      "id": "75693822-e028-42d1-8820-d2b9fcfbfbcf"
    },
    {
      "cell_type": "code",
      "execution_count": null,
      "metadata": {},
      "outputs": [],
      "source": [
        "## EMPTY VERSION\n",
        "# get_city_coords <- function(city_name) {\n",
        "#   # Construct the request URL\n",
        "#   req_url <- glue(\"http://api.openweathermap.org/geo/1.0/direct?q={____(city_name)}&limit=1&appid={Sys.getenv('OPENWEATHER_API_KEY')}\")\n",
        "#   \n",
        "#   # Perform the request\n",
        "#   response <- request(____) %>% \n",
        "#     req_perform()\n",
        "#   \n",
        "#   # Check for success (status code 200)\n",
        "#   if (resp_status(____) == ____) {\n",
        "#     resp_body_json(____) %>% \n",
        "#       pluck(____) %>% # Pluck the first result\n",
        "#       as_tibble() %>% \n",
        "#       select(name, lat, lon)\n",
        "#   } else {\n",
        "#     warning(paste(\"Could not find coordinates for:\", city_name))\n",
        "#     return(NULL)\n",
        "#   }\n",
        "# }"
      ],
      "id": "dc73a6bc-5880-4127-991a-674c7a3f0a15"
    },
    {
      "cell_type": "markdown",
      "metadata": {},
      "source": [
        "**Scratch Version Instructions:** Write a function called\n",
        "`get_city_coords` that accepts a single argument, `city_name`. Inside\n",
        "the function, use `glue()` to construct the full request URL for the\n",
        "OpenWeather Geocoding API, making sure to use `URLencode()` on the\n",
        "`city_name` to handle spaces and special characters. Perform the API\n",
        "call using `httr2::request()` and `req_perform()`. Then, use an `if`\n",
        "statement to check if the response status is 200 (OK). If it is, parse\n",
        "the JSON body, `pluck()` the first result from the list, convert it to a\n",
        "tibble, and `select()` only the `name`, `lat`, and `lon` columns to\n",
        "return. If the status is not 200, issue a `warning()` with the city name\n",
        "and return `NULL`."
      ],
      "id": "0e0322c3-511b-4021-b9c5-51fff4f97ade"
    },
    {
      "cell_type": "code",
      "execution_count": null,
      "metadata": {},
      "outputs": [],
      "source": [
        "## Completely EMPTY VERSION\n",
        "# TODO: Write a function named get_city_coords that takes a city_name,\n",
        "# calls the Geocoding API, and returns a tibble with name, lat, and lon."
      ],
      "id": "97773c37-d8d9-416a-b2f7-f4a952f018ca"
    },
    {
      "cell_type": "markdown",
      "metadata": {},
      "source": [
        "------------------------------------------------------------------------\n",
        "\n",
        "#### **Step 3: Create a Plot of City Locations**\n",
        "\n",
        "##### **Substep 3a: Get U.S. Map Data**\n",
        "\n",
        "To create our map background, we use the `map_data()` function. This\n",
        "function retrieves a data frame containing the geographic polygon\n",
        "data—essentially a set of longitude and latitude coordinates—needed to\n",
        "draw the outlines of all U.S. states.\n",
        "\n",
        "Code snippet"
      ],
      "id": "4bbd9dc9-67ce-41b7-aea9-47ddbd219236"
    },
    {
      "cell_type": "code",
      "execution_count": null,
      "metadata": {},
      "outputs": [],
      "source": [
        "# Get U.S. map data\n",
        "us_map <- map_data(\"state\")"
      ],
      "id": "0d3278f8-a5b7-420e-b8f3-f7afd10705af"
    },
    {
      "cell_type": "markdown",
      "metadata": {},
      "source": [
        "**How This Works & Which Library**\n",
        "\n",
        "-   **Library**: The `map_data()` function comes from the **`ggplot2`**\n",
        "    package. It is designed specifically to get map data in a format\n",
        "    that works seamlessly with `ggplot()`.\n",
        "\n",
        "-   **Process**:\n",
        "\n",
        "    1.  When you call `map_data(\"state\")`, `ggplot2` accesses a built-in\n",
        "        dataset (from the **`maps`** package) that contains the outlines\n",
        "        of the world, countries, and U.S. states.\n",
        "\n",
        "    2.  It returns a data frame where each row represents a single point\n",
        "        (vertex) on the border of a state.\n",
        "\n",
        "    3.  Crucially, it includes a `group` column. This column tells\n",
        "        `ggplot2` which points should be connected to form a single,\n",
        "        continuous shape (a state polygon), preventing lines from being\n",
        "        drawn incorrectly across the map.\n",
        "\n",
        "Now, we’ll define a list of cities and use our new function with\n",
        "`purrr::map_dfr` to get the coordinates for all of them. Finally, we’ll\n",
        "use `ggplot2` to plot these locations on a map of the United States.\n",
        "\n",
        "**Filled Version (Answer)**"
      ],
      "id": "9cb9c606-e1f8-4e25-9139-7b81554990ae"
    },
    {
      "cell_type": "code",
      "execution_count": null,
      "metadata": {},
      "outputs": [],
      "source": [
        "# A vector of cities to map\n",
        "cities_to_map <- c(\"San Luis Obispo\", \"Chicago\", \"New York\", \"Atlanta\", \"Houston\", \"Des Moines\")\n",
        "\n",
        "# Apply our function to each city and combine results into one data frame\n",
        "city_locations_df <- map_dfr(cities_to_map, get_city_coords)\n",
        "\n",
        "\n",
        "\n",
        "# Create the plot\n",
        "us_map %>% \n",
        "  ggplot() +\n",
        "  geom_polygon(aes(x = long, y = lat, group = group), fill = \"gray90\", color = \"white\") +\n",
        "  geom_point(data = city_locations_df, aes(x = lon, y = lat), color = \"red\", size = 3) +\n",
        "  labs(\n",
        "    title = \"Locations of Selected U.S. Cities\",\n",
        "    x = \"Longitude\",\n",
        "    y = \"Latitude\"\n",
        "  ) +\n",
        "  theme_minimal()"
      ],
      "id": "27ad6a85-1dac-4f8c-8a74-8c6e8868f5a3"
    },
    {
      "cell_type": "code",
      "execution_count": null,
      "metadata": {},
      "outputs": [],
      "source": [
        "## EMPTY VERSION\n",
        "## A vector of cities to map\n",
        "# cities_to_map <- c(\"San Luis Obispo\", \"Chicago\", \"New York\", \"Atlanta\", \"Houston\", \"Des Moines\")\n",
        "# \n",
        "## Apply our function to each city using map_dfr\n",
        "# city_locations_df <- map_dfr(____, ____)\n",
        "# \n",
        "## Get U.S. map data\n",
        "# us_map <- map_data(\"____\")\n",
        "# \n",
        "## Create the plot\n",
        "# ggplot() +\n",
        "#   geom_polygon(data = ____, aes(x = long, y = lat, group = group), fill = \"gray90\", color = \"white\") +\n",
        "#   geom_point(data = ____, aes(x = lon, y = lat), color = \"red\", size = 3) +\n",
        "#   labs(\n",
        "#     title = \"Locations of Selected U.S. Cities\",\n",
        "#     x = \"Longitude\",\n",
        "#     y = \"Latitude\"\n",
        "#   ) +\n",
        "#   theme_minimal()"
      ],
      "id": "60c88e39-46c9-4f80-9f6f-96d5cfa87358"
    },
    {
      "cell_type": "markdown",
      "metadata": {},
      "source": [
        "**Scratch Version Instructions:** First, create a character vector named\n",
        "`cities_to_map` containing the names of several U.S. cities you want to\n",
        "plot. Next, use the `purrr::map_dfr()` function to apply your\n",
        "`get_city_coords` function to each city in your vector, storing the\n",
        "combined results in a data frame called `city_locations_df`. Then,\n",
        "create the base map object by calling `map_data(\"state\")`. Finally,\n",
        "build a `ggplot` by first calling `geom_polygon()` to draw the states\n",
        "from the map data, followed by `geom_point()` to plot the city\n",
        "coordinates from your `city_locations_df`. Remember to set the\n",
        "aesthetics (`aes`) correctly for each layer and add appropriate titles\n",
        "and labels using `labs()`."
      ],
      "id": "feba5e49-7b63-4c78-8437-ec330d8d4dc6"
    },
    {
      "cell_type": "code",
      "execution_count": null,
      "metadata": {},
      "outputs": [],
      "source": [
        "## Completely EMPTY VERSION\n",
        "# TODO: Create a vector of city names.\n",
        "# TODO: Use map_dfr() and your get_city_coords function to get their locations.\n",
        "# TODO: Create a ggplot map of the US and add points for each city."
      ],
      "id": "7259d17a-0646-491a-866f-3be88e6de2b6"
    },
    {
      "cell_type": "markdown",
      "metadata": {},
      "source": [
        "------------------------------------------------------------------------\n",
        "\n",
        "Of course. Here is the project completely revised to focus on the Box\n",
        "Office Mojo data, following the same structured, multi-version format.\n",
        "\n",
        "------------------------------------------------------------------------\n",
        "\n",
        "### **Project 2: Scraping and Plotting Box Office Data**\n",
        "\n",
        "For this project, our goal is to scrape a list of the top-grossing films\n",
        "of all time directly from the **Box Office Mojo** website and create a\n",
        "visualization of the highest earners.\n",
        "\n",
        "------------------------------------------------------------------------\n",
        "\n",
        "#### **Step 1: Scrape Top-Grossing Movies**\n",
        "\n",
        "First, we will scrape the Box Office Mojo website to get a clean table\n",
        "of the top lifetime grossing films.\n",
        "\n",
        "**Filled Version (Answer)**"
      ],
      "id": "0f493284-f9d3-4f22-ab58-4cda7716be89"
    },
    {
      "cell_type": "code",
      "execution_count": null,
      "metadata": {},
      "outputs": [],
      "source": [
        "library(rvest)\n",
        "library(janitor)\n",
        "library(tibble)\n",
        "library(purrr)\n",
        "\n",
        "# Define the URL for the Box Office Mojo chart\n",
        "mojo_url <- \"https://www.boxofficemojo.com/chart/top_lifetime_gross/\"\n",
        "\n",
        "# Read the HTML, find the table, and clean it up\n",
        "top_movies_df <- read_html(mojo_url) %>% \n",
        "  html_table() %>% \n",
        "  pluck(1) %>% \n",
        "  clean_names() \n",
        "\n",
        "top_movies_df"
      ],
      "id": "5e178507-435f-42f8-ad47-8b04bd1acd62"
    },
    {
      "cell_type": "markdown",
      "metadata": {},
      "source": [
        "**Fill-in-the-Blank Version**"
      ],
      "id": "afd47e4b-fb5a-4188-bfa6-cfcceb1274d1"
    },
    {
      "cell_type": "code",
      "execution_count": null,
      "metadata": {},
      "outputs": [],
      "source": [
        "## EMPTY VERSION\n",
        "# library(rvest)\n",
        "# library(janitor)\n",
        "# library(purrr)\n",
        "\n",
        "## Define the URL for the Box Office Mojo chart\n",
        "# mojo_url <- \"https://www.boxofficemojo.com/chart/top_lifetime_gross/\"\n",
        "# \n",
        "## Read the HTML, find the table, and clean it up\n",
        "# top_movies_df <- read_*(____) %>% \n",
        "#   html_*() %>% \n",
        "#   pluck(____) %>% # Which table on the page is it?\n",
        "#   clean_names() \n",
        "# \n",
        "# print(top_movies_df)"
      ],
      "id": "7b7b3d40-4f16-40c9-a858-9c7e35ac197b"
    },
    {
      "cell_type": "markdown",
      "metadata": {},
      "source": [
        "**Scratch Version Instructions:** Begin with the `mojo_url` provided.\n",
        "Create a data pipeline that first uses `rvest::read_html()` to download\n",
        "the page’s content. Pipe this into `rvest::html_table()` to extract all\n",
        "tables on the page into a list. Since you want the main table, use\n",
        "`purrr::pluck(1)` to select the first item from that list. Finish the\n",
        "pipeline by using `janitor::clean_names()` to standardize the messy\n",
        "column headers and `tibble::as_tibble()` to ensure the final result is a\n",
        "tibble named `top_movies_df`."
      ],
      "id": "aab41d93-eb73-4464-b4dd-67578b69d0c8"
    },
    {
      "cell_type": "code",
      "execution_count": null,
      "metadata": {},
      "outputs": [],
      "source": [
        "## Completely EMPTY VERSION\n",
        "## TODO: Scrape the table of top-grossing films from the mojo_url.\n",
        "## TODO: Clean the data using janitor::clean_names() and convert it to a tibble."
      ],
      "id": "343796bf-ea05-46c3-bc70-dad3b0493641"
    },
    {
      "cell_type": "markdown",
      "metadata": {},
      "source": [
        "------------------------------------------------------------------------\n",
        "\n",
        "#### **Step 2: Create a Function to Plot Top Movies**\n",
        "\n",
        "The data we scraped has the gross earnings stored as text (e.g.,\n",
        "“\\$2,923,706,026”). We need to write a function that takes this raw data\n",
        "frame, cleans the `lifetime_gross` column so it can be treated as a\n",
        "number, and then plots the top 10 movies in a bar chart.\n",
        "\n",
        "**Filled Version (Answer)**"
      ],
      "id": "5a1289ae-7498-43a6-b3b5-4d477cda9935"
    },
    {
      "cell_type": "code",
      "execution_count": null,
      "metadata": {},
      "outputs": [],
      "source": [
        "## FILLED VERSION\n",
        "library(ggplot2)\n",
        "library(dplyr)\n",
        "library(readr)\n",
        "library(stringr)\n",
        "\n",
        "plot_top_grossing_movies <- function(data) {\n",
        "  # Clean the data: convert currency text to numbers\n",
        "  plot_data <- data %>%\n",
        "    mutate(\n",
        "      lifetime_gross_numeric = parse_number(lifetime_gross)\n",
        "    ) %>% \n",
        "    # Get the top 10 movies by gross\n",
        "    slice_max(order_by = lifetime_gross_numeric, n = 10)\n",
        "\n",
        "  # Create the bar chart\n",
        "  ggplot(plot_data, aes(x = lifetime_gross_numeric, y = reorder(title, lifetime_gross_numeric))) +\n",
        "    geom_col(fill = \"#e76f51\") +\n",
        "    scale_x_continuous(labels = scales::label_dollar(scale = 1/1e9, suffix = \"B\")) + # Format x-axis in billions\n",
        "    labs(\n",
        "      title = \"Top 10 Lifetime Grossing Films\",\n",
        "      subtitle = \"Source: Box Office Mojo\",\n",
        "      x = \"Lifetime Gross (in Billions USD)\",\n",
        "      y = \"Film Title\"\n",
        "    ) +\n",
        "    theme_minimal()\n",
        "}"
      ],
      "id": "2be4ac2f-0336-4412-b790-c583076120de"
    },
    {
      "cell_type": "markdown",
      "metadata": {},
      "source": [
        "**Fill-in-the-Blank Version**"
      ],
      "id": "71ec4647-be56-48e4-a8c6-8b9aaa07fbf8"
    },
    {
      "cell_type": "code",
      "execution_count": null,
      "metadata": {},
      "outputs": [],
      "source": [
        "##EMPTY VERSION\n",
        "# library(ggplot2)\n",
        "# library(dplyr)\n",
        "# library(readr)\n",
        "# library(stringr)\n",
        "# plot_top_grossing_movies <- function(data) {\n",
        "#   # Clean the data\n",
        "#   plot_data <- data %>%\n",
        "#     mutate(\n",
        "#       lifetime_gross_numeric = parse_number(____) # Convert the currency column\n",
        "#     ) %>% \n",
        "#     slice_max(order_by = ____, n = 10) # Get top 10 movies\n",
        "# \n",
        "#   # Create the bar chart\n",
        "#   ggplot(plot_data, aes(x = ____, y = reorder(title, ____))) +\n",
        "#     geom_col(fill = \"#e76f51\") +\n",
        "#     scale_x_continuous(labels = scales::label_dollar(scale = 1/1e9, suffix = \"B\")) +\n",
        "#     labs(\n",
        "#       title = \"Top 10 Lifetime Grossing Films\",\n",
        "#       subtitle = \"Source: Box Office Mojo\",\n",
        "#       x = \"Lifetime Gross (in Billions USD)\",\n",
        "#       y = \"Film Title\"\n",
        "#     ) +\n",
        "#     theme_minimal()\n",
        "# }"
      ],
      "id": "69f48a4e-bdc1-41f4-b387-bbadabbc2a52"
    },
    {
      "cell_type": "markdown",
      "metadata": {},
      "source": [
        "**Scratch Version Instructions:** Write a function named\n",
        "`plot_top_grossing_movies` that takes one argument, `data`. Inside the\n",
        "function, use `dplyr` to create a `plot_data` object. This pipeline\n",
        "should start with the input `data`, then use `mutate()` and\n",
        "`readr::parse_number()` to create a new numeric column from the\n",
        "`lifetime_gross` text column. Next, use `slice_max()` to keep only the\n",
        "top 10 movies based on this new numeric column. Finally, pipe this\n",
        "`plot_data` into `ggplot()`. In your `aes()`, map the numeric gross to\n",
        "the x-axis and use `reorder(title, lifetime_gross_numeric)` for the\n",
        "y-axis to ensure the bars are sorted. Use `geom_col()` to create the bar\n",
        "chart and `scale_x_continuous()` with `scales::label_dollar()` to format\n",
        "the x-axis labels in billions."
      ],
      "id": "7e5071f5-dc03-45f8-b0ad-96692e63468b"
    },
    {
      "cell_type": "code",
      "execution_count": null,
      "metadata": {},
      "outputs": [],
      "source": [
        "## Completely EMPTY VERSION\n",
        "## TODO: Write a function called plot_top_grossing_movies that takes a data frame.\n",
        "## TODO: Inside, use mutate() and parse_number() to clean the lifetime_gross column.\n",
        "## TODO: Then, create a ggplot with geom_col() to visualize the top 10 movies."
      ],
      "id": "a21083db-2f78-4209-a5b4-a3b40f3fb5f5"
    },
    {
      "cell_type": "markdown",
      "metadata": {},
      "source": [
        "------------------------------------------------------------------------\n",
        "\n",
        "#### **Step 3: Plot the Scraped Data**\n",
        "\n",
        "Finally, let’s use our new function with the `top_movies_df` data frame\n",
        "we created in Step 1 to generate the plot.\n",
        "\n",
        "**Filled Version (Answer)**"
      ],
      "id": "f9d68ede-c44d-47c0-ba19-bbaed96e3f19"
    },
    {
      "cell_type": "code",
      "execution_count": null,
      "metadata": {},
      "outputs": [],
      "source": [
        "# Use the function to plot the scraped movie data\n",
        "plot_top_grossing_movies(top_movies_df)"
      ],
      "id": "0d5f16c6-b184-47fa-8f03-6ff5c8208850"
    },
    {
      "cell_type": "markdown",
      "metadata": {},
      "source": [
        "**Fill-in-the-Blank Version**"
      ],
      "id": "10b3f883-8c23-488d-a8b4-3c3678db0d73"
    },
    {
      "cell_type": "code",
      "execution_count": null,
      "metadata": {},
      "outputs": [],
      "source": [
        "## EMPTY VERSION\n",
        "## Use the function to plot the scraped movie data\n",
        "# plot_top_grossing_movies(____)"
      ],
      "id": "29ed1798-4350-46a2-99c6-406c7dea7d0d"
    },
    {
      "cell_type": "markdown",
      "metadata": {},
      "source": [
        "**Scratch Version Instructions:** Now, simply call the\n",
        "`plot_top_grossing_movies()` function that you just created. Pass the\n",
        "`top_movies_df` data frame—which you scraped in the first step of this\n",
        "project—as the single argument to the function to generate your final\n",
        "visualization."
      ],
      "id": "57c2b7da-679e-4705-ac5f-0a8fedbf4903"
    },
    {
      "cell_type": "code",
      "execution_count": null,
      "metadata": {},
      "outputs": [],
      "source": [
        "## Completely EMPTY VERSION\n",
        "## TODO: Call your plot_top_grossing_movies function with the top_movies_df data frame."
      ],
      "id": "0bdd8e70-e17f-47b9-9d80-619c6e39d1fe"
    },
    {
      "cell_type": "markdown",
      "metadata": {},
      "source": [
        "## Part 3. Reflection\n",
        "\n",
        "1.  Compare the data cleaning required for the API response in Project 1\n",
        "    (Geocoding) versus the scraped table in Project 2 (Box Office Mojo).\n",
        "    Which required more work to prepare for plotting, and what does this\n",
        "    tell you about the trade-offs between using APIs and web scraping?\n",
        "2.  The Box Office Mojo scraper works today, but the website could be\n",
        "    redesigned at any time. What specific part of our scraping code\n",
        "    (`pluck(1)`) is most likely to break if the website’s layout\n",
        "    changes, and what would be your first step to debug it?\n",
        "3.  Our `get_city_coords` function is useful, but it assumes the API key\n",
        "    is stored in a specific way (`Sys.getenv('OPENWEATHER_API_KEY')`).\n",
        "    What argument could you add to this function to make it more\n",
        "    flexible and easier for another person to use with their own key?\n",
        "4.  Think about the two datasets we created: one with city coordinates\n",
        "    and one with movie revenues. What is a new, interesting question you\n",
        "    could potentially answer by finding a way to **join** these two\n",
        "    datasets (perhaps with a third dataset)? What would be the biggest\n",
        "    challenge in that process?"
      ],
      "id": "2520c331-1c6c-417c-94e4-12b5463c5242"
    }
  ],
  "nbformat": 4,
  "nbformat_minor": 5,
  "metadata": {
    "kernelspec": {
      "display_name": "Python 3",
      "language": "python",
      "name": "python3"
    }
  }
}